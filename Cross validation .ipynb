{
 "cells": [
  {
   "cell_type": "markdown",
   "metadata": {},
   "source": [
    "# Simple kfold "
   ]
  },
  {
   "cell_type": "code",
   "execution_count": null,
   "metadata": {},
   "outputs": [],
   "source": [
    "# import pandas and model selection module of scikit-learn\n",
    "import pandas as pd\n",
    "from sklearn import model_selection\n",
    "\n",
    "if __name__ == \"__main__\":\n",
    "    #Training data is in a CSV file called train.csv\n",
    "    df = pd.read_csv(\"train.csv\")\n",
    "    \n",
    "    # we create a new column called kfold and fill it with -1\n",
    "    df[\"kfold\"] = -1\n",
    "    \n",
    "    #the next step is to randomize the rows of data\n",
    "    df = df.sample(frac=1).reset_index(drop=True)\n",
    "    \n",
    "    # initiate the kfold class from model_selection\n",
    "    kf = model_selection.KFold(n_splits=5)\n",
    "    \n",
    "    # fill the new kfold column\n",
    "    for fold, (trn_,val_) in enumerate(kf.split(X=df)):\n",
    "        df.loc[val_,'k_fold'] = fold\n",
    "        \n",
    "    # save the new csv with kfold column\n",
    "    df.to_csv(\"train_folds.csv\",index=False)"
   ]
  },
  {
   "cell_type": "markdown",
   "metadata": {},
   "source": [
    "# Stratified kfold"
   ]
  },
  {
   "cell_type": "code",
   "execution_count": null,
   "metadata": {},
   "outputs": [],
   "source": [
    "# import pandas and model selection module of scikit-learn\n",
    "import pandas as pd\n",
    "from sklearn import model_selection\n",
    "\n",
    "if __name__ == \"__main__\":\n",
    "    #Training data is in a CSV file called train.csv\n",
    "    df = pd.read_csv(\"train.csv\")\n",
    "    \n",
    "    # we create a new column called kfold and fill it with -1\n",
    "    df[\"kfold\"] = -1\n",
    "    \n",
    "    #the next step is to randomize the rows of data\n",
    "    df = df.sample(frac=1).reset_index(drop=True)\n",
    "    \n",
    "    # initiate the kfold class from model_selection\n",
    "    kf = model_selection.StratifiedKFold(n_splits=5)\n",
    "    \n",
    "    # fill the new kfold column\n",
    "    for f, (t_,v_) in enumerate(kf.split(X=df,y=y)):\n",
    "        df.loc[v_,'kfold'] = f\n",
    "        \n",
    "        \n",
    "    # save the new csv with kfold column\n",
    "    df.to_csv(\"train_folds.csv\",index=False)"
   ]
  },
  {
   "cell_type": "markdown",
   "metadata": {},
   "source": [
    "# Stratified kfold for regression data"
   ]
  },
  {
   "cell_type": "code",
   "execution_count": 1,
   "metadata": {},
   "outputs": [
    {
     "name": "stderr",
     "output_type": "stream",
     "text": [
      "/home/anand/miniconda3/envs/ml/lib/python3.7/site-packages/sklearn/model_selection/_split.py:672: UserWarning: The least populated class in y has only 4 members, which is less than n_splits=5.\n",
      "  % (min_groups, self.n_splits)), UserWarning)\n"
     ]
    }
   ],
   "source": [
    "import numpy as np\n",
    "import pandas as pd\n",
    "\n",
    "from sklearn import datasets\n",
    "from sklearn import model_selection\n",
    "\n",
    "def create_folds(data):\n",
    "    # we create a new column called k-fold and fill it with -1\n",
    "    data[\"kfold\"] = -1\n",
    "    \n",
    "    # the next step is to randomize the rows of data\n",
    "    data = data.sample(frac=1).reset_index(drop=True)\n",
    "    \n",
    "    # calculate the number of bins by Sturge`s rule\n",
    "    # I take th floor of the value. You can also just take the round\n",
    "    num_bins = int(np.floor(1 + np.log2(len(data))))\n",
    "    \n",
    "    # bin targets\n",
    "    data.loc[:,\"bins\"] = pd.cut(\n",
    "        data['target'], bins=num_bins, labels = False\n",
    "    )\n",
    "    \n",
    "    # initiate the kfold class from the model_selection module\n",
    "    kf = model_selection.StratifiedKFold(n_splits=5)\n",
    "    \n",
    "    # fill the new kfold column\n",
    "    # note that instead of targets, we use bins\n",
    "    for f,(t_,v_) in enumerate(kf.split(X=data,y=data.bins.values)):\n",
    "        data.loc[v_,'kfold'] = f\n",
    "        \n",
    "    # drop the bins column\n",
    "    data = data.drop(\"bins\",axis=1)\n",
    "    #return the datafram with folds\n",
    "    return data\n",
    "\n",
    "\n",
    "if __name__ == \"__main__\":\n",
    "    # we create a sample with 15000 samples and 100 features and 1 target\n",
    "    X, y = datasets.make_regression(\n",
    "        n_samples=15000,n_features=100, n_targets=1\n",
    "    )\n",
    "    \n",
    "    # create a dataframe out of our numpy arrays\n",
    "    df = pd.DataFrame(\n",
    "        X,\n",
    "        columns=[f\"f_{i}\" for i in range(X.shape[1])]\n",
    "    )\n",
    "    df.loc[:,\"target\"] = y\n",
    "    \n",
    "    # create folds\n",
    "    df = create_folds(df)"
   ]
  },
  {
   "cell_type": "code",
   "execution_count": null,
   "metadata": {},
   "outputs": [],
   "source": []
  }
 ],
 "metadata": {
  "kernelspec": {
   "display_name": "Python 3",
   "language": "python",
   "name": "python3"
  },
  "language_info": {
   "codemirror_mode": {
    "name": "ipython",
    "version": 3
   },
   "file_extension": ".py",
   "mimetype": "text/x-python",
   "name": "python",
   "nbconvert_exporter": "python",
   "pygments_lexer": "ipython3",
   "version": "3.7.6"
  }
 },
 "nbformat": 4,
 "nbformat_minor": 4
}
