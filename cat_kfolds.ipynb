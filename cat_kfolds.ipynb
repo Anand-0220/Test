{
 "cells": [
  {
   "cell_type": "code",
   "execution_count": 2,
   "metadata": {},
   "outputs": [],
   "source": [
    "import pandas as pd\n",
    "from sklearn import model_selection\n",
    "\n",
    "if __name__ == \"__main__\":\n",
    "    \n",
    "    df = pd.read_csv(\"/home/anand/catinthedatii/cat_train.csv\")\n",
    "    \n",
    "    # create a column called kfold and fill it with -1\n",
    "    df[\"kfold\"] = -1\n",
    "    \n",
    "    # randomize the rows of data\n",
    "    df = df.sample(frac=1).reset_index(drop=True)\n",
    "    \n",
    "    # fetch labels\n",
    "    y = df.target.values\n",
    "    \n",
    "    # initiate kfold class from model_selection module\n",
    "    kf = model_selection.StratifiedKFold(n_splits=5)\n",
    "    \n",
    "    # fill the new kfold column\n",
    "    for f, (t_,v_) in enumerate(kf.split(X=df,y=y)):\n",
    "        df.loc[v_,'kfold'] = f\n",
    "        \n",
    "    # save the new csv with kfold column\n",
    "    df.to_csv(\"/home/anand/catinthedatii/cat_train_folds.csv\",index=False)"
   ]
  },
  {
   "cell_type": "code",
   "execution_count": 3,
   "metadata": {},
   "outputs": [
    {
     "data": {
      "text/plain": [
       "4    120000\n",
       "3    120000\n",
       "2    120000\n",
       "1    120000\n",
       "0    120000\n",
       "Name: kfold, dtype: int64"
      ]
     },
     "execution_count": 3,
     "metadata": {},
     "output_type": "execute_result"
    }
   ],
   "source": [
    "import pandas as pd\n",
    "\n",
    "df = pd.read_csv(\"/home/anand/catinthedatii/cat_train_folds.csv\")\n",
    "\n",
    "df.kfold.value_counts()"
   ]
  },
  {
   "cell_type": "code",
   "execution_count": 4,
   "metadata": {},
   "outputs": [
    {
     "data": {
      "text/plain": [
       "0    97536\n",
       "1    22464\n",
       "Name: target, dtype: int64"
      ]
     },
     "execution_count": 4,
     "metadata": {},
     "output_type": "execute_result"
    }
   ],
   "source": [
    "df[df.kfold==0].target.value_counts()\n",
    "df[df.kfold==1].target.value_counts()\n",
    "df[df.kfold==2].target.value_counts()\n",
    "df[df.kfold==3].target.value_counts()\n",
    "df[df.kfold==4].target.value_counts()"
   ]
  },
  {
   "cell_type": "code",
   "execution_count": null,
   "metadata": {},
   "outputs": [],
   "source": []
  }
 ],
 "metadata": {
  "kernelspec": {
   "display_name": "Python 3",
   "language": "python",
   "name": "python3"
  },
  "language_info": {
   "codemirror_mode": {
    "name": "ipython",
    "version": 3
   },
   "file_extension": ".py",
   "mimetype": "text/x-python",
   "name": "python",
   "nbconvert_exporter": "python",
   "pygments_lexer": "ipython3",
   "version": "3.7.6"
  }
 },
 "nbformat": 4,
 "nbformat_minor": 4
}
