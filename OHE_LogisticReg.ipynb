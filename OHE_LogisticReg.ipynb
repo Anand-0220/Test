{
 "cells": [
  {
   "cell_type": "code",
   "execution_count": 1,
   "metadata": {},
   "outputs": [
    {
     "name": "stdout",
     "output_type": "stream",
     "text": [
      "cat_kfolds.ipynb  cat_train.csv        Untitled.ipynb\r\n",
      "cat_test.csv\t  cat_train_folds.csv\r\n"
     ]
    }
   ],
   "source": [
    "!ls"
   ]
  },
  {
   "cell_type": "code",
   "execution_count": null,
   "metadata": {},
   "outputs": [],
   "source": [
    "import pandas as pd\n",
    "\n",
    "from sklearn import linear_model\n",
    "from sklearn import metrics\n",
    "from sklearn import preprocessing\n",
    "\n",
    "def run(fold):\n",
    "    \n",
    "    df = pd.read_csv(\"cat_train_folds.csv\")\n",
    "    \n",
    "    features =[\n",
    "        f for f in df.columns if f not in (\"id\",\"kfold\",\"target\")\n",
    "    ]\n",
    "    \n",
    "    # fill NaN values with NONE. Not that all columns are being converted to string as they are categories.\n",
    "    for col in features:\n",
    "        df.loc[:,col] = df[col].astype(str).fillna(\"NONE\")\n",
    "        \n",
    "    # get training data using folds\n",
    "    df_train = df[df.kfold != fold].reset_index(drop=True)\n",
    "    \n",
    "    # get validation data using folds\n",
    "    df_valid = df[df.kfold == fold].reset_index(drop=True)\n",
    "    \n",
    "    # initialize OHE from scikit-learn\n",
    "    ohe = preprocessing.OneHotEncoder()\n",
    "    \n",
    "    # fot OHE on training+ validation features\n",
    "    full_data = pd.concat(\n",
    "        [df_train[features],df_valid[features]],\n",
    "        axis=0\n",
    "    )\n",
    "    ohe.fit(full_data[features])\n",
    "    \n",
    "    # transform training data\n",
    "    x_train = ohe.transform(df_train[features])\n",
    "    \n",
    "    # transform validation data\n",
    "    x_valid = ohe.transform(df_valid[features])\n",
    "    \n",
    "    # initialize logistic regression model\n",
    "    model = linear_model.LogisticRegression()\n",
    "    \n",
    "    # fit model on training data (ohe)\n",
    "    model.fit(x_train,df_train.target.values)\n",
    "    \n",
    "    #predict on validation data\n",
    "    # we need the probability values as we are calcuating AUC\n",
    "    # we will use the probability of 1s\n",
    "    valid_preds = model.predict_proba(x_valid)[:,1]\n",
    "    \n",
    "    # get roc auc score\n",
    "    auc = metrics.roc_auc_score(df_valid.target.values,valid_preds)\n",
    "    \n",
    "    # print auc\n",
    "    print(auc)\n",
    "    \n",
    "if __name__ == \"__main__\":\n",
    "    # run function for fold = 0\n",
    "    run(0)"
   ]
  },
  {
   "cell_type": "code",
   "execution_count": null,
   "metadata": {},
   "outputs": [],
   "source": []
  }
 ],
 "metadata": {
  "kernelspec": {
   "display_name": "Python 3",
   "language": "python",
   "name": "python3"
  },
  "language_info": {
   "codemirror_mode": {
    "name": "ipython",
    "version": 3
   },
   "file_extension": ".py",
   "mimetype": "text/x-python",
   "name": "python",
   "nbconvert_exporter": "python",
   "pygments_lexer": "ipython3",
   "version": "3.7.6"
  }
 },
 "nbformat": 4,
 "nbformat_minor": 4
}
